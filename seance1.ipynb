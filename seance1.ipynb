{
 "cells": [
  {
   "cell_type": "markdown",
   "id": "7102819d",
   "metadata": {},
   "source": [
    "<h1 style=\"text-align: center; color: #2196F3;\">\n",
    "  Prise en main de jupyter notebook et Début avec git \n",
    "</h1>"
   ]
  },
  {
   "cell_type": "markdown",
   "id": "42c338e4",
   "metadata": {},
   "source": [
    "<h2 style=\"color:#eeee11;\"> Comment Commencer dans jupyter notebook? <h2>"
   ]
  },
  {
   "cell_type": "markdown",
   "id": "45a32f15",
   "metadata": {},
   "source": [
    "| Action                        | Description                                                                 |\n",
    "|-------------------------------|-----------------------------------------------------------------------------|\n",
    "| Créer une nouvelle cellule    | Clique sur le bouton \"+\" ou utilise `B` (en mode commande)                  |\n",
    "| Exécuter une cellule          | Appuie sur `Shift + Entrée`                                                 |\n",
    "| Modifier une cellule          | Double-clique sur la cellule ou appuie sur `Entrée` (en mode commande)      |\n",
    "| Changer le type de cellule    | Clique sur le menu déroulant ou utilise `M` (Markdown) ou `Y` (Code)        |\n",
    "| Supprimer une cellule         | Sélectionne la cellule puis appuie sur `D` deux fois                        |\n",
    "| Sauvegarder le notebook       | Appuie sur `Ctrl + S`                                                       |\n",
    "| Ajouter du texte formaté      | Utilise le mode Markdown dans une cellule                                   |\n",
    "| Ajouter du code               | Utilise le mode Code dans une"
   ]
  },
  {
   "cell_type": "markdown",
   "id": "6a442c23",
   "metadata": {},
   "source": [
    "<h2 style = \"color: #eeee11\"> Comment Utiliser Facilement  les markdowns dans jupyter notebook? </h2>"
   ]
  },
  {
   "cell_type": "markdown",
   "id": "c2a28631",
   "metadata": {},
   "source": [
    "| Syntaxe Markdown         | Résultat                                      |\n",
    "|-------------------------|-----------------------------------------------|\n",
    "| `# Titre`               | Titre de grande taille                        |\n",
    "| `**gras**`              | **gras**                                      |\n",
    "| `*italique*`            | *italique*                                    |\n",
    "| `` `code` ``            | `code`                                        |\n",
    "| `- Liste`               | • Liste à puces                               |\n",
    "| `1. Liste numérotée`    | 1. Liste numérotée                            |\n",
    "| `[lien](url)`           | [lien](https://www.example.com)               |\n",
    "| `> citation`            | > citation                                    |\n",
    "| `---`                   | Séparateur horizontal                         |\n",
    "| `![image](url)`"
   ]
  },
  {
   "cell_type": "markdown",
   "id": "8f2e4e8a",
   "metadata": {},
   "source": [
    "<h2 style = \"color:purple;\"> Installation et utilisation de Git et Github <h2>"
   ]
  },
  {
   "cell_type": "markdown",
   "id": "9ef67d02",
   "metadata": {},
   "source": [
    "Lien de téléchargement de git [https://gitforwindows.org/](lien)"
   ]
  },
  {
   "cell_type": "markdown",
   "id": "2e9a6b03",
   "metadata": {},
   "source": [
    "- Installation de Git "
   ]
  },
  {
   "cell_type": "markdown",
   "id": "c4a572e9",
   "metadata": {},
   "source": [
    "<h3> Command indispensables de git </h3>"
   ]
  },
  {
   "cell_type": "markdown",
   "id": "43b57817",
   "metadata": {},
   "source": [
    "| Commande Git                | Description                                              |\n",
    "|-----------------------------|---------------------------------------------------------|\n",
    "| `git init`                  | Initialise un nouveau dépôt Git                         |\n",
    "| `git clone <url>`           | Clone un dépôt distant                                  |\n",
    "| `git status`                | Affiche l’état des fichiers du dépôt                    |\n",
    "| `git add <fichier>`         | Ajoute un fichier à l’index (préparation au commit)     |\n",
    "| `git commit -m \"message\"`   | Enregistre les modifications avec un message            |\n",
    "| `git push`                  | Envoie les commits vers le dépôt distant                |\n",
    "| `git pull`                  | Récupère et fusionne les modifications du dépôt distant |\n",
    "| `git log`                   | Affiche l’historique des commits                        |\n",
    "| `git branch`                | Liste les branches                                      |\n",
    "| `git checkout <branche>`    | Change de branche                                       |\n",
    "| `git merge <branche>`       | Fusionne une branche dans la"
   ]
  },
  {
   "cell_type": "markdown",
   "id": "93689673",
   "metadata": {},
   "source": [
    "<h3> Devoir <h3>"
   ]
  },
  {
   "cell_type": "markdown",
   "id": "56caa479",
   "metadata": {},
   "source": [
    "Compléter le cours python sur le [https://www.kaggle.com/learn/python](lien) et avoir la certification avant demain. Cela prendra 5 à 8h de travail"
   ]
  },
  {
   "cell_type": "markdown",
   "id": "e3a56425",
   "metadata": {},
   "source": [
    "## La Science de données"
   ]
  },
  {
   "cell_type": "markdown",
   "id": "92d53525",
   "metadata": {},
   "source": [
    "La science des données consiste à collecter, nettoyer, analyser et visualiser des données pour en extraire des informations utiles. Elle utilise des outils comme Python, Jupyter Notebook, pandas et matplotlib. Le processus commence par la collecte des données, puis leur nettoyage pour corriger les erreurs ou valeurs manquantes. Ensuite, on réalise une analyse exploratoire pour comprendre les tendances et relations. La visualisation permet de représenter les résultats sous forme de graphiques. Enfin, on peut utiliser des modèles pour faire des prédictions ou classifier de nouvelles données."
   ]
  }
 ],
 "metadata": {
  "kernelspec": {
   "display_name": "Python 3",
   "language": "python",
   "name": "python3"
  },
  "language_info": {
   "codemirror_mode": {
    "name": "ipython",
    "version": 3
   },
   "file_extension": ".py",
   "mimetype": "text/x-python",
   "name": "python",
   "nbconvert_exporter": "python",
   "pygments_lexer": "ipython3",
   "version": "3.12.6"
  }
 },
 "nbformat": 4,
 "nbformat_minor": 5
}
